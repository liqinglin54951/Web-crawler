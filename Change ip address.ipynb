{
 "cells": [
  {
   "cell_type": "code",
   "execution_count": 200,
   "metadata": {},
   "outputs": [
    {
     "name": "stdout",
     "output_type": "stream",
     "text": [
      "http://routerlogin.net\n",
      "http://routerlogin.net/start.htm\n",
      "http://routerlogin.net/start.htm\n",
      "    Status Connection Type                           Device Name   IP Address\n",
      "0  Allowed   2.4G Wireless                    DEFAULT192.168.1.2  192.168.1.2\n",
      "2  Allowed   2.4G Wireless  HONOR_20i-173ab28824d283b192.168.1.3  192.168.1.3\n",
      "4  Allowed           Wired                    SLlQ-PC192.168.1.4  192.168.1.4\n",
      "6  Allowed     5G Wireless                         --192.168.1.5  192.168.1.5\n",
      "DHCP start: 192.168.1.2\n",
      "DHCP end: 192.168.1.254\n",
      "IP Address: 192.168.1.1\n",
      "IP Subnet Mask: 255.255.255.0\n",
      "Empty DataFrame\n",
      "Columns: [IP Address, Device Name, MAC Address]\n",
      "Index: []\n"
     ]
    }
   ],
   "source": [
    "from selenium import webdriver\n",
    "from selenium.webdriver.support.ui import WebDriverWait\n",
    "import win32com.client\n",
    "\n",
    "driver = webdriver.Chrome( executable_path = \"C:/chromedriver/chromedriver\"\n",
    "                          )\n",
    "\n",
    "wait = WebDriverWait( driver, 2 )\n",
    "\n",
    "username = 'admin'\n",
    "password = 'YourPassword'\n",
    "url = 'http://routerlogin.net' #'http://192.168.1.1' # OR # 'http://routerlogin.net'\n",
    "\n",
    "print(url)\n",
    "\n",
    "wait = WebDriverWait(driver, 2)\n",
    "driver.get( url ) # for netgear router\n",
    "    \n",
    "# https://social.technet.microsoft.com/wiki/contents/articles/5169.vbscript-sendkeys-method.aspx\n",
    "shell = win32com.client.Dispatch(\"WScript.Shell\")  \n",
    "shell.Sendkeys(username)\n",
    "shell.SendKeys('{ENTER}')\n",
    "shell.Sendkeys('{TAB}')\n",
    "shell.Sendkeys(password)\n",
    "shell.SendKeys('{ENTER}')\n",
    "\n",
    "while driver.current_url == 'http://routerlogin.net/MNU_access_setRecovery_index.htm' or \\\n",
    "        driver.current_url == 'http://192.168.1.1/MNU_access_setRecovery_index.htm':\n",
    "    driver.get( url )\n",
    "    shell = win32com.client.Dispatch(\"WScript.Shell\")  \n",
    "    shell.Sendkeys(username)\n",
    "    shell.SendKeys('{ENTER}')\n",
    "    shell.Sendkeys('{TAB}')\n",
    "    shell.Sendkeys(password)\n",
    "    shell.SendKeys('{ENTER}')\n",
    "    \n",
    "print( driver.current_url )\n",
    "# driver.get(url+'/DashBoard.htm')\n",
    "\n",
    "from selenium.webdriver.support import expected_conditions as EC\n",
    "from selenium.webdriver.common.by import By\n",
    "\n",
    "wait.until( EC.presence_of_element_located( (By.ID, \n",
    "                                             'page_contain'\n",
    "                                            ) \n",
    "                                          ) )\n",
    "\n",
    "# since iframe id='page'\n",
    "driver.switch_to.frame( driver.find_element_by_id(\"page\") )\n",
    "\n",
    "# OR # driver.find_element_by_xpath( '//html/body/table/tbody/tr[1]/td[3]' ).click()\n",
    "driver.find_element_by_xpath( '//td[@id=\"AttachedDevices\"]' ).click()\n",
    "print( driver.current_url )\n",
    "\n",
    "# tr_list = driver.find_elements_by_xpath('//*[@id=\"target\"]/table/tbody/tr[1]/td/div/table/tbody/tr[4]/td/table/tbody/tr')\n",
    "\n",
    "# //*[@id=\"target\"]/table/tbody/tr[1]/td/div/table/tbody/tr[4]/td/table/tbody/tr[1]\n",
    "\n",
    "import pandas as pd\n",
    "# full xpath: /html/body/div/form/table/tbody/tr[1]/td/div/table/tbody/tr[4]/td/table\n",
    "df = pd.read_html( driver.page_source, header=0)[3] # [3] the 3th table from outside, \n",
    "\n",
    "df= df.iloc[:,1:5]\n",
    "df = df[ df['Connection Type'].str.contains(\"NaN\")==False ]\n",
    "print(df)\n",
    "\n",
    "# /html/body/table/tbody/tr/td/table[2]/tbody/tr/td/ul/li[2]/a\n",
    "# If you did switch to the iframe, you cannot continue to manipulate the elements of the main document. \n",
    "# If you want to manipulate the content of the main document, you need to switch back to the main document:\n",
    "driver.switch_to.default_content()\n",
    "driver.find_element_by_xpath('//a[@id=\"AdvanceTab\"]').click()\n",
    "\n",
    "\n",
    "# /html/body/table/tbody/tr/td/table[2]/tbody/tr/td/div[2]/table/tbody/tr/td[1]/ul/li[4]/a\n",
    "# //*[@id=\"setup_header\"]/a\n",
    "driver.find_element_by_xpath('//li[@id=\"setup_header\"]').click()\n",
    "wait.until( EC.presence_of_element_located( (By.ID, \n",
    "                                             'setup_header'\n",
    "                                            ) \n",
    "                                          ) )\n",
    "\n",
    "# https://blog.csdn.net/Linli522362242/article/details/95042034\n",
    "# <li class=\"SubActive\" id=\"setup_header\"> <a href=\"#\"><span>Setup</span></a> </li>\n",
    "# <li class=\"subHeader\" id=\"set_hdr\" style=\"display: list-item;\"> \n",
    "#         <ul style=\"width:100%;height:128px\">                               \n",
    "#             <li class=\"SubMenu SubMenuWDS\" id=\"int_set\"><a href=\"BAS_basic.htm\" onclick=\"return false\"><span class=\"subMenu_text\">Internet Setup</span></a></li>                                     \n",
    "#             <li class=\"SubMenu SubMenu\" id=\"wireless_set\"><a href=\"WLG_wireless_dual_band_r8000.htm\" onclick=\"return false\"><span class=\"subMenu_text\">Wireless Setup</span></a></li>\n",
    "#             <li class=\"SubMenu SubMenuWDS\" id=\"wan_set\"><a href=\"WAN_wan.htm\" onclick=\"return false\"><span class=\"subMenu_text\">WAN Setup</span></a></li>\n",
    "#                                                #      ###\n",
    "#             <li class=\"SubMenuWDS SubMenu\" id=\"LAN_set\"><a href=\"LAN_lan.htm\" onclick=\"return false\">\n",
    "#                                                           <span class=\"subMenu_text\">LAN Setup</span>\n",
    "#                                                         </a>\n",
    "#             </li>\n",
    "#                                                #      ###\n",
    "#             <li class=\"SubMenu SubMenuWDS\" id=\"Qos_set\"><a href=\"QOS_down_streaming_iqos.htm\" onclick=\"return false\"><span class=\"subMenu_text\">QoS Setup</span></a></li>\n",
    "#             <li class=\"SubMenu SubMenu\" id=\"guest_set\"><a href=\"WLG_wireless_dual_band_2_r8000.htm\" onclick=\"return false\"><span class=\"subMenu_text\">Guest Network</span></a></li>\n",
    "#         </ul>\t\t\t\t            \n",
    "#     </li>\n",
    "# You can use:\n",
    "# driver.find_element_by_xpath('//li[@id=\"setup_header\"]/following-sibling::li[1]/ul/li[@id=\"LAN_set\"]').click()\n",
    "# OR \n",
    "# driver.find_element_by_xpath('//li[@id=\"LAN_set\"]').click()\n",
    "# OR\n",
    "# note \"text\" is also an node, text()==> ../ ==> span ==>../ ==> a ==> ../ ==> li[@id=\"LAN_set\"]\n",
    "# driver.find_element_by_xpath('//a/span[text()=\"LAN Setup\"]/../../../li[@id=\"LAN_set\"]').click()\n",
    "# OR\n",
    "driver.find_elements_by_xpath('//a/span[text()=\"LAN Setup\"]')[0].click() # click a\n",
    "\n",
    "driver.switch_to.frame( driver.find_element_by_id(\"page2\") )\n",
    "# /html/body/div/form/input[12]\n",
    "dhcp_start = driver.find_element_by_xpath('//input[@name=\"dhcp_start\"]').get_attribute(\"value\")\n",
    "dhcp_end = driver.find_element_by_xpath('//input[@name=\"dhcp_end\"]').get_attribute(\"value\")\n",
    "\n",
    "ip_address = driver.find_element_by_xpath('//input[@name=\"lan_ipaddr\"]').get_attribute(\"value\")\n",
    "ip_subnet_mask = driver.find_element_by_xpath('//input[@name=\"lan_netmask\"]').get_attribute(\"value\")\n",
    "\n",
    "# driver.quit()\n",
    "print('DHCP start:', dhcp_start)\n",
    "print('DHCP end:', dhcp_end)\n",
    "print('IP Address:', ip_address)\n",
    "print('IP Subnet Mask:', ip_subnet_mask)\n",
    "\n",
    "# note we are inside the first table\n",
    "# /html/body/div/form/   table   /tbody/tr[2]/td/div/table/tbody/tr[15]/td/table/tbody\n",
    "reservation_df = pd.read_html( driver.page_source, header=0 )[2] # [3] the 2th table inside first table\n",
    "reservation_df = reservation_df.iloc[:, 2:reservation_df.shape[1]]    \n",
    "print(reservation_df)\n",
    "\n",
    "driver.quit()"
   ]
  },
  {
   "cell_type": "code",
   "execution_count": 204,
   "metadata": {},
   "outputs": [
    {
     "data": {
      "text/plain": [
       "Series([], Name: IP Address, dtype: object)"
      ]
     },
     "execution_count": 204,
     "metadata": {},
     "output_type": "execute_result"
    }
   ],
   "source": [
    "reservation_df['IP Address']"
   ]
  },
  {
   "cell_type": "code",
   "execution_count": 205,
   "metadata": {},
   "outputs": [
    {
     "data": {
      "text/plain": [
       "['192.168.1.1', '192.168.1.2', '192.168.1.3', '192.168.1.4', '192.168.1.5']"
      ]
     },
     "execution_count": 205,
     "metadata": {},
     "output_type": "execute_result"
    }
   ],
   "source": [
    "ip_list=df['IP Address'].to_list()\n",
    "ip_list.append(ip_address) # ip_list.append('192.168.1.1')\n",
    "\n",
    "if reservation_df.shape[0] > 0:\n",
    "    for ip in reservation_df['IP Address']:\n",
    "        if ip not in ip_list:\n",
    "            ip_list.append(ip_list)\n",
    "    \n",
    "ip_list=sorted( ip_list )\n",
    "ip_list"
   ]
  },
  {
   "cell_type": "code",
   "execution_count": 210,
   "metadata": {},
   "outputs": [
    {
     "data": {
      "text/plain": [
       "'192.168.1.94'"
      ]
     },
     "execution_count": 210,
     "metadata": {},
     "output_type": "execute_result"
    }
   ],
   "source": [
    "used=[]\n",
    "for ip in ip_list:\n",
    "    used.append( ip.split('.')[-1] )\n",
    "\n",
    "new_ip = np.random.randint( int( dhcp_start.split('.')[-1] ), \n",
    "                            int( dhcp_end.split('.')[-1] ) + 1,\n",
    "                            size=1\n",
    "                          )[0]    \n",
    "while ip in used:\n",
    "    new_ip = np.random.randint( int( dhcp_start.split('.')[-1] ), \n",
    "                                int( dhcp_end.split('.')[-1] ) + 1,\n",
    "                                size=1\n",
    "                              )[0]   \n",
    "new_ip = '.'.join([ '192.168.1', str(new_ip) ])\n",
    "new_ip"
   ]
  },
  {
   "cell_type": "code",
   "execution_count": 217,
   "metadata": {},
   "outputs": [
    {
     "name": "stdout",
     "output_type": "stream",
     "text": [
      "['1', '2', '3', '4', '5']\n"
     ]
    },
    {
     "data": {
      "text/plain": [
       "'192.168.1.215'"
      ]
     },
     "execution_count": 217,
     "metadata": {},
     "output_type": "execute_result"
    }
   ],
   "source": [
    "import re\n",
    "\n",
    "used=[]\n",
    "\n",
    "# ip_list = ['192.168.1.1', '192.168.1.2', '192.168.1.3', '192.168.1.4', '192.168.1.5']\n",
    "for ip in ip_list:\n",
    "    used.append( re.sub( '([0-9]{1,3}.){3}', # pattern\n",
    "                         '',\n",
    "                         ip\n",
    "                       )\n",
    "               )\n",
    "print(used)    \n",
    "\n",
    "new_ip = np.random.randint( int( re.sub( '([0-9]{1,3}.){3}', # pattern\n",
    "                                         '',\n",
    "                                         dhcp_start,\n",
    "                                       )\n",
    "                               ),\n",
    "                            int(  re.sub( '([0-9]{1,3}.){3}', # pattern\n",
    "                                          '',\n",
    "                                          dhcp_end,\n",
    "                                        )\n",
    "                               )+1,\n",
    "                            size=1\n",
    "                          )[0]    \n",
    "while ip in used:\n",
    "    new_ip = np.random.randint( int( re.sub( '([0-9]{1,3}.){3}', # pattern\n",
    "                                             '',\n",
    "                                             dhcp_start,\n",
    "                                           )\n",
    "                                   ),\n",
    "                                int(  re.sub( '([0-9]{1,3}.){3}', # pattern\n",
    "                                              '',\n",
    "                                              dhcp_end,\n",
    "                                            )\n",
    "                                   )+1,\n",
    "                                size=1\n",
    "                              )[0] \n",
    "    \n",
    "new_ip = '.'.join([ '192.168.1', str(new_ip) ])\n",
    "new_ip"
   ]
  },
  {
   "cell_type": "code",
   "execution_count": 16,
   "metadata": {},
   "outputs": [
    {
     "name": "stdout",
     "output_type": "stream",
     "text": [
      "Network adapter detection is in progress, please wait...\n",
      "\n"
     ]
    }
   ],
   "source": [
    "print('Network adapter detection is in progress, please wait...\\n')"
   ]
  },
  {
   "cell_type": "code",
   "execution_count": 381,
   "metadata": {},
   "outputs": [
    {
     "data": {
      "text/plain": [
       "<PyHKEY at 0x1ac4bd70>"
      ]
     },
     "execution_count": 381,
     "metadata": {},
     "output_type": "execute_result"
    }
   ],
   "source": [
    "import winreg\n",
    "\n",
    "# winreg.HKEY_LOCAL_MACHINE\n",
    "#      Registry entries subordinate to this key define the physical state of the computer, \n",
    "#      including data about the bus type, system memory, and installed hardware and software.\n",
    "\n",
    "hkey = winreg.OpenKey( winreg.HKEY_LOCAL_MACHINE, \\\n",
    "                       r'System\\CurrentControlSet\\Control\\Class\\{4d36e972-e325-11ce-bfc1-08002be10318}'\n",
    "                     )\n",
    "hkey # <PyHKEY at 0x1a130ad0>"
   ]
  },
  {
   "cell_type": "code",
   "execution_count": 382,
   "metadata": {},
   "outputs": [
    {
     "data": {
      "text/plain": [
       "(24, 7, 132737717659219844)"
      ]
     },
     "execution_count": 382,
     "metadata": {},
     "output_type": "execute_result"
    }
   ],
   "source": [
    "keyInfo = winreg.QueryInfoKey( hkey )\n",
    "keyInfo"
   ]
  },
  {
   "cell_type": "code",
   "execution_count": 380,
   "metadata": {},
   "outputs": [
    {
     "name": "stdout",
     "output_type": "stream",
     "text": [
      "driver descritions: Marvell Yukon 88E8057 PCI-E Gigabit Ethernet Controller\n",
      "Network adapter ID: {D622414E-F5F0-41F7-8907-1C0EDE2B5E24} \n",
      "\n",
      "driver descritions: DisplayLink Network Adapter NCM\n",
      "Network adapter ID: {A98CC15D-466E-4985-AB9F-7B84C71D5FCC} \n",
      "\n"
     ]
    }
   ],
   "source": [
    "# Find the adapter name corresponding to the network card netCfgInstanceID\n",
    "for index in range( keyInfo[0] ):\n",
    "    hSubKeyName = winreg.EnumKey( hkey, index ) # ==> # 0000, 0001,...,0024, Properties\n",
    "    if hSubKeyName == 'Properties':\n",
    "        continue\n",
    "    hSubKey = winreg.OpenKey(hkey, hSubKeyName)\n",
    "    # <PyHKEY:0x0000000000000A9C>, <PyHKEY:0x0000000000000A94>, repeated...\n",
    "    try:\n",
    "        hNdiInfKey = winreg.OpenKey(hSubKey, r'Ndi\\Interfaces')\n",
    "        # <PyHKEY:0x0000000000000A9C>, <PyHKEY:0x0000000000000A94>, repeated...\n",
    "        lowerRange = winreg.QueryValueEx(hNdiInfKey, 'LowerRange')\n",
    "        \n",
    "        # card manufacturer name and NIC name, Guid\n",
    "        # ('ethernet', 1)\n",
    "        if lowerRange[0] == 'ethernet':\n",
    "            driverDesc = winreg.QueryValueEx(hSubKey, 'DriverDesc')[0]\n",
    "            print('driver descritions:', driverDesc)\n",
    "            # driverDesc\n",
    "            # ('Marvell Yukon 88E8057 PCI-E Gigabit Ethernet Controller', 1)\n",
    "            # ('DisplayLink Network Adapter NCM', 1)\n",
    "            # ('TAP-Windows Adapter V9', 1)\n",
    "            # ('Apple Mobile Device Ethernet', 1)\n",
    "            \n",
    "            # RootDevice's Data in the linkage\n",
    "            netCfgInstanceID = winreg.QueryValueEx(hSubKey, 'NetCfgInstanceID')[0]\n",
    "            print('Network adapter ID:', netCfgInstanceID, '\\n')\n",
    "            # netCfgInstanceID\n",
    "            # ('{D622414E-F5F0-41F7-8907-1C0EDE2B5E24}', 1)\n",
    "            # ('{A98CC15D-466E-4985-AB9F-7B84C71D5FCC}', 1)\n",
    "            # ('{07D69288-DE47-4348-89D5-94D70DE90A9B}', 1)\n",
    "            # ('{E0C996DE-475D-40A8-B8E5-EA4D483EE287}', 1)\n",
    "            if netCfgInstanceID == None:\n",
    "                print('The network adapter is not found, the program exits!')\n",
    "                winreg.CloseKey(hNdiInfKey)\n",
    "                exit()\n",
    "            elif driverDesc=='DisplayLink Network Adapter NCM':\n",
    "                winreg.CloseKey(hNdiInfKey)\n",
    "                break\n",
    "        winreg.CloseKey(hNdiInfKey)\n",
    "    \n",
    "    except:\n",
    "        print('Message:', 'No Ndi\\Interfaces Key')\n",
    "        \n",
    "winreg.CloseKey(hSubKey)\n",
    "winreg.CloseKey(hkey)                                  "
   ]
  },
  {
   "cell_type": "code",
   "execution_count": 469,
   "metadata": {},
   "outputs": [
    {
     "name": "stdout",
     "output_type": "stream",
     "text": [
      "The registry address of the network adapter is:\n",
      " SYSTEM\\CurrentControlSet\\services\\{A98CC15D-466E-4985-AB9F-7B84C71D5FCC}\\Parameters\\Tcpip\n"
     ]
    }
   ],
   "source": [
    "# Set the IP by modifying the registry\n",
    "# HKEY_LOCAL_MACHINE\\SYSTEM\\CurrentControlSet\\services\\{A98CC15D-466E-4985-AB9F-7B84C71D5FCC}\\Parameters\\Tcpip\n",
    "strKeyName= r'SYSTEM\\CurrentControlSet\\services\\{0}\\Parameters\\Tcpip'.format(netCfgInstanceID)\n",
    "print( 'The registry address of the network adapter is:\\n', strKeyName )"
   ]
  },
  {
   "cell_type": "code",
   "execution_count": 474,
   "metadata": {
    "scrolled": true
   },
   "outputs": [
    {
     "name": "stdout",
     "output_type": "stream",
     "text": [
      "['192.168.1.10'] ['255.255.255.0'] ['192.168.1.1']\n",
      "['192.168.1.215'] ['255.255.255.0'] ['192.168.1.1']\n"
     ]
    }
   ],
   "source": [
    "# Set the IP by modifying the registry\n",
    "# HKEY_LOCAL_MACHINE\\SYSTEM\\CurrentControlSet\\services\\{A98CC15D-466E-4985-AB9F-7B84C71D5FCC}\\Parameters\\Tcpip\n",
    "strKeyName= r'SYSTEM\\CurrentControlSet\\services\\{0}\\Parameters\\Tcpip'.format(netCfgInstanceID)\n",
    "\n",
    "hkey=winreg.OpenKey( winreg.HKEY_LOCAL_MACHINE,\n",
    "                     strKeyName,\n",
    "                     0,\n",
    "                     winreg.KEY_ALL_ACCESS # (winreg.KEY_WOW64_64KEY + winreg.KEY_READ)\n",
    "                   )\n",
    "ip_data, ip_type = winreg.QueryValueEx( hkey, \"IPAddress\" ) \n",
    "subnetMask_data, subnetMask_type = winreg.QueryValueEx( hkey, \"SubnetMask\" )\n",
    "defaultGateWay_data, defaultGateWay_type = winreg.QueryValueEx( hkey, \"DefaultGateWay\" )\n",
    "\n",
    "print( ip_data, subnetMask_data, defaultGateWay_data )\n",
    "\n",
    "winreg.SetValueEx(hkey, \"IPAddress\", 1, winreg.REG_MULTI_SZ, [new_ip])\n",
    "\n",
    "ip_data, ip_type = winreg.QueryValueEx( hkey, \"IPAddress\" )\n",
    "print( ip_data, subnetMask_data, defaultGateWay_data )"
   ]
  },
  {
   "cell_type": "code",
   "execution_count": 447,
   "metadata": {},
   "outputs": [
    {
     "name": "stdout",
     "output_type": "stream",
     "text": [
      "1 255.255.255.0 192.168.1.1\n"
     ]
    }
   ],
   "source": [
    "ip_data, ip_type = winreg.QueryValueEx( hkey, \"IPAddress\" ) \n",
    "subnetMask_data, subnetMask_type = winreg.QueryValueEx( hkey, \"SubnetMask\" )\n",
    "defaultGateWay_data, defaultGateWay_type = winreg.QueryValueEx( hkey, \"DefaultGateWay\" )\n",
    "\n",
    "print( ip_data[0], subnetMask_data[0], defaultGateWay_data[0] )"
   ]
  },
  {
   "cell_type": "code",
   "execution_count": null,
   "metadata": {},
   "outputs": [],
   "source": []
  }
 ],
 "metadata": {
  "kernelspec": {
   "display_name": "Python 3",
   "language": "python",
   "name": "python3"
  },
  "language_info": {
   "codemirror_mode": {
    "name": "ipython",
    "version": 3
   },
   "file_extension": ".py",
   "mimetype": "text/x-python",
   "name": "python",
   "nbconvert_exporter": "python",
   "pygments_lexer": "ipython3",
   "version": "3.7.4"
  },
  "varInspector": {
   "cols": {
    "lenName": 16,
    "lenType": 16,
    "lenVar": 40
   },
   "kernels_config": {
    "python": {
     "delete_cmd_postfix": "",
     "delete_cmd_prefix": "del ",
     "library": "var_list.py",
     "varRefreshCmd": "print(var_dic_list())"
    },
    "r": {
     "delete_cmd_postfix": ") ",
     "delete_cmd_prefix": "rm(",
     "library": "var_list.r",
     "varRefreshCmd": "cat(var_dic_list()) "
    }
   },
   "types_to_exclude": [
    "module",
    "function",
    "builtin_function_or_method",
    "instance",
    "_Feature"
   ],
   "window_display": false
  }
 },
 "nbformat": 4,
 "nbformat_minor": 4
}
